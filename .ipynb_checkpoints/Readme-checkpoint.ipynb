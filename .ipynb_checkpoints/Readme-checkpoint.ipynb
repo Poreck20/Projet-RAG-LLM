{
 "cells": [
  {
   "cell_type": "markdown",
   "id": "9e4fb7eb-5b20-4105-b86a-19f525857dbd",
   "metadata": {},
   "source": [
    "# Projet LLM RAG : Génération de CV orienté Data Science"
   ]
  },
  {
   "cell_type": "markdown",
   "id": "0cd57be1-ae3b-4448-93f1-2d42c00fa322",
   "metadata": {},
   "source": [
    "## Auteur : \n",
    "Alpha DIALLO étudiant en M1 Maserati & GPIA"
   ]
  },
  {
   "cell_type": "markdown",
   "id": "f328bd7c-efb9-424d-9874-bac438ddceb5",
   "metadata": {},
   "source": [
    "## Description du Projet\n",
    "Ce projet consiste à utiliser un LLM basé sur RAG (Retrieval-Augmented Generation) pour générer un CV professionnel orienté Data Science, à partir d'un ou plusieurs anciens CV. Dans mon cas, j'ai utilisé mon CV actuel, en vue de l'enrichir et de le structurer de manière à répondre aux exigences d'une alternance en Data Science."
   ]
  },
  {
   "cell_type": "markdown",
   "id": "02c02f8f-4804-4202-901e-cab355a8df77",
   "metadata": {},
   "source": [
    "### Objectifs :\n",
    "- Créer un CV clair, structuré et professionnel.\n",
    "- Mettre en valeur les compétences techniques et les expériences pertinentes.\n",
    "- Explorer l'intégration d'un LLM (LangChain) avec des modèles d'embedding (Cohere).\n"
   ]
  },
  {
   "cell_type": "markdown",
   "id": "ca9e23c8-c0d2-4011-9a06-850877525e5a",
   "metadata": {},
   "source": [
    "## Organisation du Projet"
   ]
  },
  {
   "cell_type": "markdown",
   "id": "41954ed1-82a1-4791-a4cf-13f49eac4ab7",
   "metadata": {},
   "source": [
    "### 1. Rapport :\n",
    "Le rapport détaillé du projet, incluant :\n",
    "\n",
    "- Code complet\n",
    "- Explications\n",
    "- Résultats\n",
    "- Se trouve dans le fichier Jupyter Notebook : projet_llm.ipynb"
   ]
  },
  {
   "cell_type": "markdown",
   "id": "e827283f-050c-4df9-937b-cb81146158b6",
   "metadata": {},
   "source": [
    "### 2. Script d'entraînement :\n",
    "Le script utilisé pour la gestion des données et la mise en œuvre de la chaîne RAG est disponible sous le nom : main.py."
   ]
  },
  {
   "cell_type": "markdown",
   "id": "cfebe875-4c90-47ab-bf6f-7ce9fa01eeac",
   "metadata": {},
   "source": [
    "## 3. Modèle et API utilisés : \n",
    "- Modèle LLM : command-r-plus de Cohere (via LangChain).\n",
    "- Embeddings : embed-english-v2.0 (Cohere, version gratuite).\n",
    "- API Key : Une clé d'API Cohere a été utilisée pour accéder aux services. (La clé est masquée pour des raisons de sécurité conformément aux bonnes pratiques Git)"
   ]
  },
  {
   "cell_type": "markdown",
   "id": "5b243ff9-dae9-4b3e-bd7c-9a83418304bb",
   "metadata": {},
   "source": [
    "## Fonctionnalités principales\n",
    "- Chargement de documents : Lecture et extraction des informations à partir d'un ancien CV (au format PDF).\n",
    "- Fragmentation intelligente : Division du texte en segments pour un traitement optimal.\n",
    "- Recherche augmentée : Utilisation des embeddings pour récupérer des contextes pertinents.\n",
    "- Prompting optimisé : Un prompt soigneusement conçu pour structurer les données dans un format de CV clair et - --orienté Data Science.\n",
    "- Génération de CV : Création automatique d'un CV enrichi avec un style professionnel."
   ]
  },
  {
   "cell_type": "markdown",
   "id": "48ada1c5-bc9c-4508-9c43-f2cee30d6d02",
   "metadata": {},
   "source": [
    "### Prompt utilisé\n",
    "cv_prompt_template = \"\"\"\n",
    "Vous allez générer un CV orienté Data Science à partir des informations suivantes. Organisez les informations de manière claire et professionnelle.\n",
    "\n",
    "Voici les sections à inclure :\n",
    "      DIALLO Alpha \n",
    "1. **Expérience professionnelle**\n",
    "    - Inclure toutes les experiences \n",
    "    - Résumer chaque expérience en 2-3 points.\n",
    "2. **Compétences techniques**\n",
    "    - Liste des outils, langages et frameworks spécifiques à la Data Science.\n",
    "    - Inclure des compétences générales comme \"résolution de problèmes\", \"analyse statistique\", etc.\n",
    "3. **Formation**\n",
    "    - Indiquer tous les diplômes et certificats obtenus. Je suis actuellement en Master 1.\n",
    "    - Préciser les cours ou spécialisations liés à la Data Science.\n",
    "4. **Projets**\n",
    "    - Décrire brièvement 2-3 projets pertinents (par exemple, \"Prédiction des ventes avec Machine Learning\").\n",
    "5. **Autres informations**\n",
    "    - Langues parlées, hobbies, ou toute autre information pertinente.\n",
    "\n",
    "6. **Soft skills**\n",
    "    - Rajoute des soft skills.\n",
    "\n",
    "Sections de texte récupérées : {context}\n",
    "\n",
    "Générez un CV structuré et concis avec des sous-sections claires et des listes à puces. Utilisez un style professionnel et soigné.\n",
    "\n",
    "\"\"\"\n",
    "prompt = PromptTemplate(input_variables=[\"context\"], template=cv_prompt_template)\n"
   ]
  },
  {
   "cell_type": "markdown",
   "id": "17df76b2-4f1c-4551-a0e1-65199c7f95c7",
   "metadata": {},
   "source": [
    "## Exemple de CV généré\n",
    "Un exemple de CV structuré et généré automatiquement est disponible dans le fichier output.md, avec les sections suivantes :\n",
    "\n",
    "- Expérience professionnelle\n",
    "- Compétences techniques\n",
    "- Formation\n",
    "- Projets\n",
    "- Autres informations pertinentes"
   ]
  },
  {
   "cell_type": "markdown",
   "id": "d68d20fb-43a7-46a7-a80f-844e24805516",
   "metadata": {},
   "source": [
    "### Scren d'un CV généré automatiquement\n",
    "![Ma photo](photo.png)"
   ]
  },
  {
   "cell_type": "markdown",
   "id": "6b88fc89-0af0-43ad-981e-1fdaca521971",
   "metadata": {},
   "source": [
    "## Retour d'experience  \n",
    "Ce projet a été une expérience riche et motivante, avec de nombreux apprentissages :\n",
    "\n",
    "- Points positifs :\n",
    "  - Exploration approfondie du concept de RAG et de son intégration dans un pipeline LLM.\n",
    "  - Simplicité et efficacité des modèles Cohere (version gratuite).\n",
    "  - Facilité d'utilisation de LangChain pour orchestrer les différentes étapes du projet.\n",
    "- Défis rencontrés :\n",
    "  - Ajustement du prompt pour produire un format de CV optimal.\n",
    "  - Gestion des données extraites et optimisation du découpage en segments.\n",
    "- Conclusion : La version gratuite de Cohere a largement suffi pour atteindre les objectifs d'un projet pédagogique et professionnel."
   ]
  },
  {
   "cell_type": "markdown",
   "id": "f6ea8815-856e-4d37-b23c-8417b2a0a0e4",
   "metadata": {},
   "source": [
    "## Améliorations possibles\n",
    "- Intégrer un pipeline plus complexe avec d'autres modèles d'LLM pour comparer les performances.\n",
    "- Ajouter une interface utilisateur simple pour personnaliser le prompt ou les sections du CV.\n",
    "- Tester des versions payantes de Cohere pour évaluer les performances sur des cas d'utilisation avancés."
   ]
  },
  {
   "cell_type": "markdown",
   "id": "25bdbb93-c315-4c3d-8fd8-ce1050dd4a09",
   "metadata": {},
   "source": [
    " ## Licence\n",
    "Ce projet est sous licence MIT. Vous êtes libre de l'utiliser, de le modifier et de le distribuer, à condition de mentionner l'auteur original."
   ]
  }
 ],
 "metadata": {
  "kernelspec": {
   "display_name": "Python 3 (ipykernel)",
   "language": "python",
   "name": "python3"
  },
  "language_info": {
   "codemirror_mode": {
    "name": "ipython",
    "version": 3
   },
   "file_extension": ".py",
   "mimetype": "text/x-python",
   "name": "python",
   "nbconvert_exporter": "python",
   "pygments_lexer": "ipython3",
   "version": "3.12.7"
  }
 },
 "nbformat": 4,
 "nbformat_minor": 5
}
